{
  "nbformat": 4,
  "nbformat_minor": 0,
  "metadata": {
    "colab": {
      "provenance": []
    },
    "kernelspec": {
      "name": "python3",
      "display_name": "Python 3"
    },
    "language_info": {
      "name": "python"
    }
  },
  "cells": [
    {
      "cell_type": "code",
      "execution_count": 1,
      "metadata": {
        "id": "QOgrsHO62q8P"
      },
      "outputs": [],
      "source": [
        "!pip install sodapy -q"
      ]
    },
    {
      "cell_type": "code",
      "source": [
        "import pandas as pd\n",
        "from sodapy import Socrata"
      ],
      "metadata": {
        "id": "vknWTI8l2v2Z"
      },
      "execution_count": 2,
      "outputs": []
    },
    {
      "cell_type": "code",
      "source": [
        "client = Socrata(\"data.sfgov.org\", None)\n",
        "results = client.get(\"wg3w-h783\", limit=10000000000)"
      ],
      "metadata": {
        "id": "xaaq-RyK2w2G",
        "colab": {
          "base_uri": "https://localhost:8080/"
        },
        "outputId": "02c6b627-8f6d-4274-d554-0bf4827d6ca4"
      },
      "execution_count": 3,
      "outputs": [
        {
          "output_type": "stream",
          "name": "stderr",
          "text": [
            "WARNING:root:Requests made without an app_token will be subject to strict throttling limits.\n"
          ]
        }
      ]
    },
    {
      "cell_type": "code",
      "source": [
        "result_df = pd.DataFrame.from_records(results)"
      ],
      "metadata": {
        "id": "w3kNahIh2xzf"
      },
      "execution_count": 4,
      "outputs": []
    },
    {
      "cell_type": "code",
      "source": [
        "final_df = result_df.sort_values(by='incident_datetime')"
      ],
      "metadata": {
        "id": "Dea__ico2ywr"
      },
      "execution_count": 5,
      "outputs": []
    },
    {
      "cell_type": "code",
      "source": [
        "from google.colab import auth\n",
        "auth.authenticate_user()"
      ],
      "metadata": {
        "id": "aBXdE71W6TWB"
      },
      "execution_count": 6,
      "outputs": []
    },
    {
      "cell_type": "code",
      "source": [
        "project_id = \"major-project-407515\"\n",
        "!gcloud config set project {project_id}"
      ],
      "metadata": {
        "id": "7Mv1uBbo6TTp",
        "colab": {
          "base_uri": "https://localhost:8080/"
        },
        "outputId": "92082e16-db49-4588-ff41-dd1bf4a72751"
      },
      "execution_count": 7,
      "outputs": [
        {
          "output_type": "stream",
          "name": "stdout",
          "text": [
            "Updated property [core/project].\n"
          ]
        }
      ]
    },
    {
      "cell_type": "code",
      "source": [
        "final_df.to_csv(\"gs://project_major//MAJOR_PROJECT/DATA.csv\")"
      ],
      "metadata": {
        "id": "xfmA3Zho2z_C"
      },
      "execution_count": 8,
      "outputs": []
    },
    {
      "cell_type": "code",
      "source": [],
      "metadata": {
        "id": "zMNYXpwrDKWr"
      },
      "execution_count": null,
      "outputs": []
    }
  ]
}