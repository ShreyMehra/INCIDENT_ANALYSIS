{
  "nbformat": 4,
  "nbformat_minor": 0,
  "metadata": {
    "colab": {
      "provenance": []
    },
    "kernelspec": {
      "name": "python3",
      "display_name": "Python 3"
    },
    "language_info": {
      "name": "python"
    }
  },
  "cells": [
    {
      "cell_type": "code",
      "execution_count": 1,
      "metadata": {
        "id": "QOgrsHO62q8P"
      },
      "outputs": [],
      "source": [
        "!pip install sodapy -q"
      ]
    },
    {
      "cell_type": "code",
      "source": [
        "import pandas as pd\n",
        "from sodapy import Socrata"
      ],
      "metadata": {
        "id": "vknWTI8l2v2Z"
      },
      "execution_count": 2,
      "outputs": []
    },
    {
      "cell_type": "code",
      "source": [
        "client = Socrata(\"data.sfgov.org\", None)\n",
        "results = client.get(\"wg3w-h783\", limit=10000000000)"
      ],
      "metadata": {
        "colab": {
          "base_uri": "https://localhost:8080/"
        },
        "id": "xaaq-RyK2w2G",
        "outputId": "578e151d-3aa9-428d-b370-a6133f5be83a"
      },
      "execution_count": 3,
      "outputs": [
        {
          "output_type": "stream",
          "name": "stderr",
          "text": [
            "WARNING:root:Requests made without an app_token will be subject to strict throttling limits.\n"
          ]
        }
      ]
    },
    {
      "cell_type": "code",
      "source": [
        "result_df = pd.DataFrame.from_records(results)"
      ],
      "metadata": {
        "id": "w3kNahIh2xzf"
      },
      "execution_count": 4,
      "outputs": []
    },
    {
      "cell_type": "code",
      "source": [
        "final_df = result_df.sort_values(by='incident_datetime')"
      ],
      "metadata": {
        "id": "Dea__ico2ywr"
      },
      "execution_count": 5,
      "outputs": []
    },
    {
      "cell_type": "code",
      "source": [
        "from google.colab import auth\n",
        "auth.authenticate_user()"
      ],
      "metadata": {
        "id": "aBXdE71W6TWB"
      },
      "execution_count": 7,
      "outputs": []
    },
    {
      "cell_type": "code",
      "source": [
        "project_id = \"training-project-404110\"\n",
        "!gcloud config set project {project_id}"
      ],
      "metadata": {
        "colab": {
          "base_uri": "https://localhost:8080/"
        },
        "id": "7Mv1uBbo6TTp",
        "outputId": "4f9c8b09-9b71-4c7f-b101-7563d1e02156"
      },
      "execution_count": 9,
      "outputs": [
        {
          "output_type": "stream",
          "name": "stdout",
          "text": [
            "Updated property [core/project].\n"
          ]
        }
      ]
    },
    {
      "cell_type": "code",
      "source": [
        "final_df.to_csv(\"gs://training-project-404110.appspot.com/MAJOR_PROJECT/DATA.csv\")"
      ],
      "metadata": {
        "id": "xfmA3Zho2z_C"
      },
      "execution_count": 10,
      "outputs": []
    }
  ]
}